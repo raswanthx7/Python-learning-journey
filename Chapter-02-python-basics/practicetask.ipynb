{
 "cells": [
  {
   "cell_type": "markdown",
   "id": "40c59129",
   "metadata": {},
   "source": [
    "# Chapter 2 Practice Tasks\n",
    "\n",
    "## Topics Covered\n",
    "\n",
    "- Literals\n",
    "- Constants\n",
    "- Keywords\n",
    "- Identifiers\n",
    "- Variables\n",
    "- Comments\n",
    "- Input & Output statements"
   ]
  },
  {
   "cell_type": "markdown",
   "id": "9309a553",
   "metadata": {},
   "source": [
    "Task 1: String Literal\n",
    "Q: Store your name as a string literal and print it."
   ]
  },
  {
   "cell_type": "code",
   "execution_count": 5,
   "id": "16803765",
   "metadata": {},
   "outputs": [
    {
     "name": "stdout",
     "output_type": "stream",
     "text": [
      "stark\n"
     ]
    }
   ],
   "source": [
    "name=\"stark\"\n",
    "print(name)"
   ]
  },
  {
   "cell_type": "markdown",
   "id": "f8313f7e",
   "metadata": {},
   "source": [
    "\n",
    "Task 2: Integer Literal\n",
    "Q: Store your age as an integer literal and print it."
   ]
  },
  {
   "cell_type": "code",
   "execution_count": 6,
   "id": "b3719728",
   "metadata": {},
   "outputs": [
    {
     "name": "stdout",
     "output_type": "stream",
     "text": [
      "20\n"
     ]
    }
   ],
   "source": [
    "age=20\n",
    "print(age)"
   ]
  },
  {
   "cell_type": "markdown",
   "id": "f608c335",
   "metadata": {},
   "source": [
    "Task 3: Float Literal Q: Store your height as a float literal and print it."
   ]
  },
  {
   "cell_type": "code",
   "execution_count": 7,
   "id": "8a286c5a",
   "metadata": {},
   "outputs": [
    {
     "name": "stdout",
     "output_type": "stream",
     "text": [
      "5.8\n"
     ]
    }
   ],
   "source": [
    "height=5.8\n",
    "print(height)"
   ]
  },
  {
   "cell_type": "markdown",
   "id": "ffba68e5",
   "metadata": {},
   "source": [
    "Task 4: Boolean Literal Q: Store whether you are a student (True/False) and print it."
   ]
  },
  {
   "cell_type": "code",
   "execution_count": 11,
   "id": "8510e3ab",
   "metadata": {},
   "outputs": [
    {
     "name": "stdout",
     "output_type": "stream",
     "text": [
      "True\n"
     ]
    }
   ],
   "source": [
    "student = True\n",
    "print(student)"
   ]
  },
  {
   "cell_type": "markdown",
   "id": "d7d69f38",
   "metadata": {},
   "source": [
    "Task 5: Using a Keyword Q: Try using a keyword (for, if, while) as a variable name and see what happens."
   ]
  },
  {
   "cell_type": "code",
   "execution_count": 14,
   "id": "6dfd99b5",
   "metadata": {},
   "outputs": [
    {
     "ename": "SyntaxError",
     "evalue": "invalid syntax (3788360360.py, line 1)",
     "output_type": "error",
     "traceback": [
      "  \u001b[36mCell\u001b[39m\u001b[36m \u001b[39m\u001b[32mIn[14]\u001b[39m\u001b[32m, line 1\u001b[39m\n\u001b[31m    \u001b[39m\u001b[31mfor=whatt\u001b[39m\n       ^\n\u001b[31mSyntaxError\u001b[39m\u001b[31m:\u001b[39m invalid syntax\n"
     ]
    }
   ],
   "source": [
    "for=whatt\n",
    "    print(for)"
   ]
  },
  {
   "cell_type": "markdown",
   "id": "5433239b",
   "metadata": {},
   "source": [
    "Task 6: Valid Identifier Q: Create a variable named user_name and store \"yourname\". Print it."
   ]
  },
  {
   "cell_type": "code",
   "execution_count": 15,
   "id": "eb820365",
   "metadata": {},
   "outputs": [
    {
     "name": "stdout",
     "output_type": "stream",
     "text": [
      "stark\n"
     ]
    }
   ],
   "source": [
    "user_name = \"stark\"\n",
    "print(user_name)"
   ]
  },
  {
   "cell_type": "markdown",
   "id": "4c309d05",
   "metadata": {},
   "source": [
    "Task 7: Invalid Identifier Q: Try creating a variable 123age = 20 and see what happens."
   ]
  },
  {
   "cell_type": "code",
   "execution_count": 16,
   "id": "a84d8024",
   "metadata": {},
   "outputs": [
    {
     "ename": "SyntaxError",
     "evalue": "invalid decimal literal (4289853064.py, line 1)",
     "output_type": "error",
     "traceback": [
      "  \u001b[36mCell\u001b[39m\u001b[36m \u001b[39m\u001b[32mIn[16]\u001b[39m\u001b[32m, line 1\u001b[39m\n\u001b[31m    \u001b[39m\u001b[31m123age = 20\u001b[39m\n      ^\n\u001b[31mSyntaxError\u001b[39m\u001b[31m:\u001b[39m invalid decimal literal\n"
     ]
    }
   ],
   "source": [
    "123age = 20"
   ]
  },
  {
   "cell_type": "markdown",
   "id": "d3dfc33e",
   "metadata": {},
   "source": [
    "Task 8: Single-line Comment Q: Add a comment above a variable that says \"This stores my age\"."
   ]
  },
  {
   "cell_type": "code",
   "execution_count": null,
   "id": "67bd1f3e",
   "metadata": {},
   "outputs": [
    {
     "name": "stdout",
     "output_type": "stream",
     "text": [
      "20\n"
     ]
    }
   ],
   "source": [
    "# This stores my age\n",
    "age = 20\n",
    "print (age)"
   ]
  },
  {
   "cell_type": "markdown",
   "id": "c6b18d58",
   "metadata": {},
   "source": [
    "Task 9: Input Statement Q: Ask the user for their favorite color and print it."
   ]
  },
  {
   "cell_type": "code",
   "execution_count": null,
   "id": "697a2203",
   "metadata": {},
   "outputs": [
    {
     "name": "stdout",
     "output_type": "stream",
     "text": [
      "Your favorite color is: \n"
     ]
    }
   ],
   "source": [
    "color = input(\"Enter your favorite color: \")\n",
    "print(\"Your favorite color is:\", color)"
   ]
  },
  {
   "cell_type": "markdown",
   "id": "6d1314d2",
   "metadata": {},
   "source": [
    "Task 10: Multiple Inputs and Outputs Q: Ask the user for their name and age. Then print them together."
   ]
  },
  {
   "cell_type": "code",
   "execution_count": null,
   "id": "cac1ce8c",
   "metadata": {},
   "outputs": [],
   "source": [
    "name = input(\"Enter your name:\")\n",
    "age = input(\"enter your age:\")\n",
    "print(\"your name:\", name)\n",
    "print(\"your age:\", age)"
   ]
  }
 ],
 "metadata": {
  "kernelspec": {
   "display_name": "Python 3",
   "language": "python",
   "name": "python3"
  },
  "language_info": {
   "codemirror_mode": {
    "name": "ipython",
    "version": 3
   },
   "file_extension": ".py",
   "mimetype": "text/x-python",
   "name": "python",
   "nbconvert_exporter": "python",
   "pygments_lexer": "ipython3",
   "version": "3.11.9"
  }
 },
 "nbformat": 4,
 "nbformat_minor": 5
}
