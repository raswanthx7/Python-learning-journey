{
 "cells": [
  {
   "cell_type": "markdown",
   "id": "725e7613",
   "metadata": {},
   "source": [
    "# Arithmetic Operators -Practice tasks"
   ]
  },
  {
   "cell_type": "markdown",
   "id": "bf159c56",
   "metadata": {},
   "source": [
    "Task 1: Monthly Budget Analysis\n",
    "\n",
    "A user spends $1250 on rent, $450 on groceries, and $300 on utilities in a month.Calculate the total monthly expenses and the remaining amount if the user's mothly income is $3000."
   ]
  },
  {
   "cell_type": "code",
   "execution_count": 1,
   "id": "4b664eb2",
   "metadata": {},
   "outputs": [
    {
     "name": "stdout",
     "output_type": "stream",
     "text": [
      "total income 3000, total expenses 2000, remaining expense 1000\n"
     ]
    }
   ],
   "source": [
    "rent=1250\n",
    "groceries=450\n",
    "utilities=300\n",
    "monthly_income=3000  \n",
    "\n",
    "total_expense=rent+groceries+utilities\n",
    "remaining_income=monthly_income-total_expense\n",
    "\n",
    "print(f\"total income {monthly_income}, total expenses {total_expense}, remaining expense {remaining_income}\")\n"
   ]
  },
  {
   "cell_type": "markdown",
   "id": "eac335c8",
   "metadata": {},
   "source": [
    "Task2: Project Workload Distribution\n",
    "\n",
    "A team has 480 work hours to complete a project. If there are 6 team members, calculate how many hours each member should work (floor division) and the remaining hours unassigned. "
   ]
  },
  {
   "cell_type": "code",
   "execution_count": 2,
   "id": "e1b5ff78",
   "metadata": {},
   "outputs": [
    {
     "name": "stdout",
     "output_type": "stream",
     "text": [
      "The team has 480 work hours. Each member gets 80 hours, and 0 hours remain unassigned.\n"
     ]
    }
   ],
   "source": [
    "work_hours=480\n",
    "team_mem=6\n",
    "\n",
    "hours_per_mem=work_hours//team_mem\n",
    "remaining_hours=work_hours%hours_per_mem\n",
    " \n",
    "print(f\"The team has {work_hours} work hours. Each member gets {hours_per_mem} hours, and {remaining_hours} hours remain unassigned.\") "
   ]
  },
  {
   "cell_type": "markdown",
   "id": "590a975c",
   "metadata": {},
   "source": [
    "Task3:Interest Calculation\n",
    "\n",
    "A user invests $5000 at an annual interest rate of 6% for 3 years. Calculate the total interest earned using the simple interest formula."
   ]
  },
  {
   "cell_type": "code",
   "execution_count": 5,
   "id": "759be2cc",
   "metadata": {},
   "outputs": [
    {
     "name": "stdout",
     "output_type": "stream",
     "text": [
      "total interest earned 900.0\n"
     ]
    }
   ],
   "source": [
    "principal=5000\n",
    "rate=6\n",
    "time=3\n",
    "\n",
    "simple_interest=(principal*rate*time)/100\n",
    "print(\"total interest earned\", simple_interest)"
   ]
  },
  {
   "cell_type": "markdown",
   "id": "d9f602f8",
   "metadata": {},
   "source": [
    "Task4: E-commerce Discount\n",
    "\n",
    "An online store sells a laptop for $1200. The store offers a 15% discount. Calculate the discount amount and the final price the user pays"
   ]
  },
  {
   "cell_type": "code",
   "execution_count": 6,
   "id": "166b2018",
   "metadata": {},
   "outputs": [
    {
     "name": "stdout",
     "output_type": "stream",
     "text": [
      "discount amount: 180.0\n",
      "final price of the laptop 1020.0\n"
     ]
    }
   ],
   "source": [
    "laptop=1200\n",
    "discount=15\n",
    "discount_amt=laptop*discount/100\n",
    "final_price=laptop-discount_amt\n",
    "print(\"discount amount:\", discount_amt)\n",
    "print(\"final price of the laptop\", final_price)"
   ]
  },
  {
   "cell_type": "markdown",
   "id": "3b4a885b",
   "metadata": {},
   "source": [
    "Task5:Travel Distance Conversion\n",
    "\n",
    "A driver covers 5600 meters. Convert this distance into kilometers and calculate the remaining meters using floor division and modulus."
   ]
  },
  {
   "cell_type": "code",
   "execution_count": 7,
   "id": "77b763e9",
   "metadata": {},
   "outputs": [
    {
     "name": "stdout",
     "output_type": "stream",
     "text": [
      "kilometer: 5\n",
      "Remanining meters: 600\n"
     ]
    }
   ],
   "source": [
    "driver_covers=5600\n",
    "\n",
    "kilometer=driver_covers//1000\n",
    "remaining_meter=driver_covers%1000\n",
    "\n",
    "print(\"kilometer:\", kilometer)\n",
    "print(\"Remanining meters:\", remaining_meter)"
   ]
  },
  {
   "cell_type": "markdown",
   "id": "1fae909a",
   "metadata": {},
   "source": [
    "Task6: Salary Bonus Distribution\n",
    "\n",
    "A company distributes a bonus pool of $15,000 among 7 employees. Calculate how much bonus each employee receives (integer division) and the leftover amount."
   ]
  },
  {
   "cell_type": "code",
   "execution_count": 8,
   "id": "5b502eee",
   "metadata": {},
   "outputs": [
    {
     "name": "stdout",
     "output_type": "stream",
     "text": [
      "bonus per employees: 2142\n",
      "leftover: 6\n"
     ]
    }
   ],
   "source": [
    "bonus_pool=15000\n",
    "employees=7\n",
    "\n",
    "bonus_per_emp=bonus_pool//employees\n",
    "leftover=bonus_pool%employees\n",
    "\n",
    "print(\"bonus per employees:\", bonus_per_emp)\n",
    "print(\"leftover:\", leftover)"
   ]
  },
  {
   "cell_type": "markdown",
   "id": "cec66223",
   "metadata": {},
   "source": [
    "Task7: Electricity Bill Calculation\n",
    "\n",
    "A household consumes 420 units of electricity. The rate per unit is $0.15. Calculate the total electricity bill and the cost per 100 units."
   ]
  },
  {
   "cell_type": "code",
   "execution_count": 9,
   "id": "ace2740c",
   "metadata": {},
   "outputs": [
    {
     "name": "stdout",
     "output_type": "stream",
     "text": [
      "total bill is 63.0\n",
      "cost per 100 units: 15.0\n"
     ]
    }
   ],
   "source": [
    "units=420\n",
    "rate_per_unit=0.15\n",
    "\n",
    "total_bill=units*rate_per_unit\n",
    "cost_per_100=100*rate_per_unit\n",
    "\n",
    "print(\"total bill is\", total_bill)\n",
    "print(\"cost per 100 units:\", cost_per_100)"
   ]
  },
  {
   "cell_type": "markdown",
   "id": "c96334a2",
   "metadata": {},
   "source": [
    "Task8: Rectangle Plot Planning\n",
    "\n",
    "A land plot is 120 meters long and 80 meters wide. Calculate the area and perimeter of the plot."
   ]
  },
  {
   "cell_type": "code",
   "execution_count": 10,
   "id": "86d7ef85",
   "metadata": {},
   "outputs": [
    {
     "name": "stdout",
     "output_type": "stream",
     "text": [
      "area of the plot: 9600\n",
      "perimeter of the plot: 400\n"
     ]
    }
   ],
   "source": [
    "length=120\n",
    "width=80\n",
    "\n",
    "area=length*width\n",
    "perimeter=2*(length+width)\n",
    "\n",
    "print(\"area of the plot:\", area)\n",
    "print(\"perimeter of the plot:\", perimeter)"
   ]
  },
  {
   "cell_type": "markdown",
   "id": "1296a6ee",
   "metadata": {},
   "source": [
    "Task9: Cafeteria Meal Cost\n",
    "\n",
    "A cafeteria sells 3 types of meals: $12, $15, and $9. A customer buys 4, 2, and 3 meals of each type respectively. Calculate the total bill and the average cost per meal."
   ]
  },
  {
   "cell_type": "code",
   "execution_count": null,
   "id": "690bb17a",
   "metadata": {},
   "outputs": [
    {
     "name": "stdout",
     "output_type": "stream",
     "text": [
      "total bill: 105\n",
      "average cost per meal: 11.666666666666666\n"
     ]
    }
   ],
   "source": [
    "meal1, meal2, meal3=12,15,9\n",
    "qty1, qty2, qty3=4,2,3\n",
    "\n",
    "total_bill=(meal1*qty1)+(meal2*qty2)+(meal3*qty3)\n",
    "average_cost=total_bill/(qty1+qty2+qty3)\n",
    "\n",
    "print(\"total bill:\", total_bill)\n",
    "print(\"average cost per meal:\", average_cost)\n"
   ]
  },
  {
   "cell_type": "markdown",
   "id": "1290d774",
   "metadata": {},
   "source": [
    "Task10: Daily Calorie Tracker\n",
    "\n",
    "A user consumes breakfast = 450 calories, lunch = 700 calories, and dinner = 600 calories. Calculate the total calories consumed in a day and the average calories per meal."
   ]
  },
  {
   "cell_type": "code",
   "execution_count": 14,
   "id": "55327e86",
   "metadata": {},
   "outputs": [
    {
     "name": "stdout",
     "output_type": "stream",
     "text": [
      "total calories: 1750\n",
      "average calories: 583.3333333333334\n"
     ]
    }
   ],
   "source": [
    "breakfast=450\n",
    "lunch=700\n",
    "dinner=600\n",
    "\n",
    "total_calories=breakfast+lunch+dinner\n",
    "average_calories_per_meal=total_calories/3\n",
    "\n",
    "print(\"total calories:\", total_calories)\n",
    "print(\"average calories:\", average_calories_per_meal)"
   ]
  },
  {
   "cell_type": "markdown",
   "id": "31aaaad1",
   "metadata": {},
   "source": [
    "Task11: A user invests $1200 in a fund that triples in value every year. Calculate the value of the investment after 3 years using the exponent operator."
   ]
  },
  {
   "cell_type": "code",
   "execution_count": 15,
   "id": "8511d33b",
   "metadata": {},
   "outputs": [
    {
     "name": "stdout",
     "output_type": "stream",
     "text": [
      "investment value after 3 yrs: 32400\n"
     ]
    }
   ],
   "source": [
    "investment=1200\n",
    "growth=3\n",
    "years=3\n",
    "\n",
    "final_value=investment*(growth**years)\n",
    "print(\"investment value after 3 yrs:\", final_value)"
   ]
  },
  {
   "cell_type": "markdown",
   "id": "95fec7f5",
   "metadata": {},
   "source": [
    "Task12: Compound Interest (Without Loop, Single Step)\n",
    "\n",
    "A user deposits $2000 in a savings account with an annual growth factor of 1.05 (5% per year). Calculate the balance after 4 years using the exponent operator."
   ]
  },
  {
   "cell_type": "code",
   "execution_count": 16,
   "id": "58e9d656",
   "metadata": {},
   "outputs": [
    {
     "name": "stdout",
     "output_type": "stream",
     "text": [
      "balance after 4 years: 2431.0125000000003\n"
     ]
    }
   ],
   "source": [
    "principal=2000\n",
    "growth=1.05\n",
    "years=4\n",
    "\n",
    "balance=principal*(growth**years)\n",
    "\n",
    "print(\"balance after 4 years:\", balance)"
   ]
  },
  {
   "cell_type": "markdown",
   "id": "915ab2b5",
   "metadata": {},
   "source": [
    "Task 13: Population Growth Estimation\n",
    "\n",
    "A city has a population of 150,000, and it doubles every 10 years. Calculate the population after 3 decades using exponentiation."
   ]
  },
  {
   "cell_type": "code",
   "execution_count": null,
   "id": "d4c5b8a5",
   "metadata": {},
   "outputs": [],
   "source": [
    "population=150000\n",
    "growth=2\n",
    "decades=3\n",
    "\n",
    "future_population=population*(growth**decades)"
   ]
  }
 ],
 "metadata": {
  "kernelspec": {
   "display_name": "Python 3",
   "language": "python",
   "name": "python3"
  },
  "language_info": {
   "codemirror_mode": {
    "name": "ipython",
    "version": 3
   },
   "file_extension": ".py",
   "mimetype": "text/x-python",
   "name": "python",
   "nbconvert_exporter": "python",
   "pygments_lexer": "ipython3",
   "version": "3.11.9"
  }
 },
 "nbformat": 4,
 "nbformat_minor": 5
}
