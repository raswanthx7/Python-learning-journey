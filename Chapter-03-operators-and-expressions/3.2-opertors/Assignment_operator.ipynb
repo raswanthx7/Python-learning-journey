{
 "cells": [
  {
   "cell_type": "markdown",
   "id": "1df5601a",
   "metadata": {},
   "source": [
    "# Assignment Operator - Practice tasks"
   ]
  },
  {
   "cell_type": "markdown",
   "id": "bdd8ef19",
   "metadata": {},
   "source": [
    "Task 1 — Update Account Balance\n",
    "\n",
    "You have a variable balance = 5000. A user deposits 1500. Update the balance using an assignment operator and print the new balance."
   ]
  },
  {
   "cell_type": "code",
   "execution_count": 1,
   "id": "b6717720",
   "metadata": {},
   "outputs": [
    {
     "name": "stdout",
     "output_type": "stream",
     "text": [
      "Update balance: 6500\n"
     ]
    }
   ],
   "source": [
    "balance = 5000\n",
    "balance += 1500\n",
    "\n",
    "print(\"Update balance:\", balance)"
   ]
  },
  {
   "cell_type": "markdown",
   "id": "896faaaa",
   "metadata": {},
   "source": [
    "Task 2 — Deduct Expenses\n",
    "\n",
    "balance = 6500. A user spends 2300. Update the balance using a suitable assignment operator and display it."
   ]
  },
  {
   "cell_type": "code",
   "execution_count": 2,
   "id": "515fa663",
   "metadata": {},
   "outputs": [
    {
     "name": "stdout",
     "output_type": "stream",
     "text": [
      "update balance: 4200\n"
     ]
    }
   ],
   "source": [
    "balance = 6500\n",
    "balance -= 2300\n",
    "\n",
    "print(\"update balance:\", balance)"
   ]
  },
  {
   "cell_type": "markdown",
   "id": "ff84beb6",
   "metadata": {},
   "source": [
    "Task 3 — Apply Bonus Multiplier\n",
    "\n",
    "A salesperson’s sales = 1200. Apply a bonus multiplier of 1.5 using an assignment operator and print the updated sales."
   ]
  },
  {
   "cell_type": "code",
   "execution_count": 3,
   "id": "38795377",
   "metadata": {},
   "outputs": [
    {
     "name": "stdout",
     "output_type": "stream",
     "text": [
      "Updated Sales: 1800.0\n"
     ]
    }
   ],
   "source": [
    "sales = 1200\n",
    "sales *= 1.5\n",
    "\n",
    "print(\"Updated Sales:\", sales)"
   ]
  },
  {
   "cell_type": "markdown",
   "id": "48c4dd47",
   "metadata": {},
   "source": [
    "Task 4 — Reduce Stock\n",
    "\n",
    "stock = 50. 7 items are sold. Update stock using an assignment operator and print the remaining stock."
   ]
  },
  {
   "cell_type": "code",
   "execution_count": 4,
   "id": "fbd42c0b",
   "metadata": {},
   "outputs": [
    {
     "name": "stdout",
     "output_type": "stream",
     "text": [
      "update stock: 43\n"
     ]
    }
   ],
   "source": [
    "stock = 50\n",
    "stock -= 7\n",
    "\n",
    "print(\"update stock:\", stock)"
   ]
  },
  {
   "cell_type": "markdown",
   "id": "56bf31dc",
   "metadata": {},
   "source": [
    "Task 5 — Calculate Discount\n",
    "\n",
    "price = 2000. Apply a 20% discount using an assignment operator and print the final price."
   ]
  },
  {
   "cell_type": "code",
   "execution_count": 5,
   "id": "4a2d614f",
   "metadata": {},
   "outputs": [
    {
     "name": "stdout",
     "output_type": "stream",
     "text": [
      "1600.0\n"
     ]
    }
   ],
   "source": [
    "#formula: New Value=Old Value×(1±100Percentage​)\n",
    "#Use – for discount/decrease → (1 - 0.20) = 0.8\n",
    "# Use + for increase → (1 + 0.20) = 1.2\n",
    "\n",
    "price = 2000\n",
    "discount = 20   # in percent\n",
    "price *= (1 - discount/100)\n",
    "print(price)"
   ]
  },
  {
   "cell_type": "markdown",
   "id": "95865852",
   "metadata": {},
   "source": [
    "Task 6 — Accumulate Points\n",
    "\n",
    "points = 350. The user earns 25 more points. Update the points using an assignment operator and print total points."
   ]
  },
  {
   "cell_type": "code",
   "execution_count": 6,
   "id": "38da629c",
   "metadata": {},
   "outputs": [
    {
     "name": "stdout",
     "output_type": "stream",
     "text": [
      "375\n"
     ]
    }
   ],
   "source": [
    "points=350\n",
    "points += 25\n",
    "\n",
    "print(points)"
   ]
  },
  {
   "cell_type": "markdown",
   "id": "eb302b7e",
   "metadata": {},
   "source": [
    "Task 7 — Budget Split\n",
    "\n",
    "budget = 10000. Split the budget equally among 4 departments using an assignment operator and print the share of one department"
   ]
  },
  {
   "cell_type": "code",
   "execution_count": 7,
   "id": "b543fcf8",
   "metadata": {},
   "outputs": [
    {
     "name": "stdout",
     "output_type": "stream",
     "text": [
      "2500.0\n"
     ]
    }
   ],
   "source": [
    "budget=10000\n",
    "budget /= 4\n",
    "print(budget)"
   ]
  },
  {
   "cell_type": "markdown",
   "id": "fb8c9887",
   "metadata": {},
   "source": [
    "Task 8 — Apply Tax\n",
    "\n",
    "income = 45000. Apply a tax rate of 10% using an assignment operator to calculate the remaining income after tax."
   ]
  },
  {
   "cell_type": "code",
   "execution_count": 8,
   "id": "f1d269bf",
   "metadata": {},
   "outputs": [
    {
     "name": "stdout",
     "output_type": "stream",
     "text": [
      "49500.00000000001\n"
     ]
    }
   ],
   "source": [
    "income = 45000\n",
    "tax = 10\n",
    "income *= (1 + tax/100)\n",
    "print(income)"
   ]
  },
  {
   "cell_type": "markdown",
   "id": "408b7434",
   "metadata": {},
   "source": [
    "Task 9 — Power of Learning\n",
    "\n",
    "level = 3. A user completes 2 learning modules, each doubling their level. Use an assignment operator to update level sequentially and print the final level."
   ]
  },
  {
   "cell_type": "code",
   "execution_count": 10,
   "id": "ad3edabf",
   "metadata": {},
   "outputs": [
    {
     "name": "stdout",
     "output_type": "stream",
     "text": [
      "Final Level: 81\n"
     ]
    }
   ],
   "source": [
    "\n",
    "level = 3\n",
    "level **= 2   # Complete first module (double)\n",
    "level **= 2   # Complete second module (double again)\n",
    "print(\"Final Level:\", level)\n"
   ]
  },
  {
   "cell_type": "markdown",
   "id": "98c946dc",
   "metadata": {},
   "source": [
    "Task 10 — Complex Sequential Update\n",
    "\n",
    "value = 15. Update value sequentially in a single line using assignment operators:\n",
    "\n",
    "1. Add 10\n",
    "2. Multiply by 2\n",
    "3. Subtract 5\n",
    "4. Floor divide by 3\n",
    "Print the final result."
   ]
  },
  {
   "cell_type": "code",
   "execution_count": 11,
   "id": "6c44ae81",
   "metadata": {},
   "outputs": [
    {
     "name": "stdout",
     "output_type": "stream",
     "text": [
      "Final Value: 15\n"
     ]
    }
   ],
   "source": [
    "\n",
    "value = 15\n",
    "value += 10\n",
    "value *= 2\n",
    "value -= 5\n",
    "value //= 3\n",
    "print(\"Final Value:\", value)\n"
   ]
  }
 ],
 "metadata": {
  "kernelspec": {
   "display_name": "Python 3",
   "language": "python",
   "name": "python3"
  },
  "language_info": {
   "codemirror_mode": {
    "name": "ipython",
    "version": 3
   },
   "file_extension": ".py",
   "mimetype": "text/x-python",
   "name": "python",
   "nbconvert_exporter": "python",
   "pygments_lexer": "ipython3",
   "version": "3.11.9"
  }
 },
 "nbformat": 4,
 "nbformat_minor": 5
}
